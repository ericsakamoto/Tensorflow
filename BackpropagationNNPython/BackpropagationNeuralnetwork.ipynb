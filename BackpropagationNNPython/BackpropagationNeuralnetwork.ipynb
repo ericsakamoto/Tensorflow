{
 "cells": [
  {
   "cell_type": "code",
   "execution_count": 91,
   "metadata": {},
   "outputs": [
    {
     "name": "stdout",
     "output_type": "stream",
     "text": [
      "Extracting MNIST_data/train-images-idx3-ubyte.gz\n",
      "Extracting MNIST_data/train-labels-idx1-ubyte.gz\n",
      "Extracting MNIST_data/t10k-images-idx3-ubyte.gz\n",
      "Extracting MNIST_data/t10k-labels-idx1-ubyte.gz\n"
     ]
    }
   ],
   "source": [
    "import tensorflow as tf\n",
    "\n",
    "from tensorflow.examples.tutorials.mnist import input_data\n",
    "mnist = input_data.read_data_sets(\"MNIST_data/\", one_hot=True)\n",
    "\n",
    "# INPUT LAYER\n",
    "x_0 = tf.placeholder(tf.float32, [None, 784])\n",
    "# OUTPUT LAYER\n",
    "y = tf.placeholder(tf.float32, [None, 10])\n",
    "\n",
    "middle = 30\n",
    "\n",
    "# Pesos entre Input Layer e Hidden Layer\n",
    "w_1 = tf.Variable(tf.truncated_normal([784, middle]))\n",
    "# Bias da Hidden Layer\n",
    "b_1 = tf.Variable(tf.truncated_normal([1, middle]))\n",
    "# Pesos entre Hidden Layer e Output Layer\n",
    "w_2 = tf.Variable(tf.truncated_normal([middle, 10]))\n",
    "# Bias do Output Layer\n",
    "b_2 = tf.Variable(tf.truncated_normal([1, 10]))"
   ]
  },
  {
   "cell_type": "code",
   "execution_count": 92,
   "metadata": {},
   "outputs": [],
   "source": [
    "def sigmoid(x):\n",
    "    return tf.div(tf.constant(1.0), tf.add(tf.constant(1.0), tf.exp(tf.negative(x))))\n",
    "\n",
    "def dsigmoid(x):\n",
    "    return tf.multiply(sigmoid(x), tf.subtract(tf.constant(1.0), sigmoid(x)))"
   ]
  },
  {
   "cell_type": "code",
   "execution_count": 93,
   "metadata": {},
   "outputs": [],
   "source": [
    "# Feed Forward Input Layer >> Hidden Layer\n",
    "z_1 = tf.add(tf.matmul(x_0, w_1), b_1)\n",
    "x_1 = sigmoid(z_1)\n",
    "# Feed Forward Hidden Layer >> Outut Layer \n",
    "z_2 = tf.add(tf.matmul(x_1, w_2), b_2)\n",
    "x_2 = sigmoid(z_2)"
   ]
  },
  {
   "cell_type": "code",
   "execution_count": 94,
   "metadata": {},
   "outputs": [],
   "source": [
    "# Teste da acurácia da rede neural\n",
    "diff = tf.subtract(x_2, y)"
   ]
  },
  {
   "cell_type": "code",
   "execution_count": 95,
   "metadata": {},
   "outputs": [],
   "source": [
    "# Backpropagation - Cálculo dos pesos e bias\n",
    "#d_z_2 = tf.multiply(diff, dsigmoid(z_2))\n",
    "#d_b_2 = d_z_2\n",
    "#d_w_2 = tf.matmul(tf.transpose(x_1), d_z_2)\n",
    "\n",
    "#d_a_1 = tf.matmul(d_z_2, tf.transpose(w_2))\n",
    "#d_z_1 = tf.multiply(d_a_1, dsigmoid(z_1))\n",
    "#d_b_1 = d_z_1\n",
    "#d_w_1 = tf.matmul(tf.transpose(x_0), d_z_1)"
   ]
  },
  {
   "cell_type": "code",
   "execution_count": 96,
   "metadata": {
    "collapsed": true
   },
   "outputs": [],
   "source": [
    "# Backpropagation - Atualização dos pesos e bias\n",
    "#eta = tf.constant(0.5)\n",
    "#step = [\n",
    "#    tf.assign(w_1, tf.subtract(w_1, tf.multiply(eta, d_w_1))), \n",
    "#    tf.assign(b_1, tf.subtract(b_1, tf.multiply(eta, tf.reduce_mean(d_b_1, axis=[0])))), \n",
    "#    tf.assign(w_2, tf.subtract(w_2, tf.multiply(eta, d_w_2))),\n",
    "#    tf.assign(b_2, tf.subtract(b_2, tf.multiply(eta, tf.reduce_mean(d_b_2, axis=[0]))))\n",
    "#]"
   ]
  },
  {
   "cell_type": "code",
   "execution_count": 109,
   "metadata": {},
   "outputs": [],
   "source": [
    "cost = tf.multiply(diff, diff)\n",
    "step = tf.train.GradientDescentOptimizer(0.2).minimize(cost)"
   ]
  },
  {
   "cell_type": "code",
   "execution_count": 110,
   "metadata": {},
   "outputs": [
    {
     "name": "stdout",
     "output_type": "stream",
     "text": [
      "89.0\n",
      "741.0\n",
      "866.0\n",
      "885.0\n",
      "892.0\n",
      "903.0\n",
      "905.0\n",
      "906.0\n",
      "917.0\n",
      "931.0\n"
     ]
    }
   ],
   "source": [
    "acct_mat = tf.equal(tf.argmax(x_2, 1), tf.argmax(y, 1))\n",
    "acct_res = tf.reduce_sum(tf.cast(acct_mat, tf.float32))\n",
    "\n",
    "sess = tf.InteractiveSession()\n",
    "sess.run(tf.global_variables_initializer())\n",
    "\n",
    "for i in range(10000):\n",
    "    batch_xs, batch_ys = mnist.train.next_batch(10)\n",
    "    sess.run(step, feed_dict = {x_0: batch_xs,\n",
    "                                y : batch_ys})\n",
    "    if i % 1000 == 0:\n",
    "        res = sess.run(acct_res, feed_dict =\n",
    "                       {x_0: mnist.test.images[:1000],\n",
    "                        y : mnist.test.labels[:1000]})\n",
    "        print(res)"
   ]
  },
  {
   "cell_type": "code",
   "execution_count": null,
   "metadata": {},
   "outputs": [],
   "source": []
  },
  {
   "cell_type": "code",
   "execution_count": null,
   "metadata": {
    "collapsed": true
   },
   "outputs": [],
   "source": []
  }
 ],
 "metadata": {
  "kernelspec": {
   "display_name": "Python 3",
   "language": "python",
   "name": "python3"
  },
  "language_info": {
   "codemirror_mode": {
    "name": "ipython",
    "version": 3
   },
   "file_extension": ".py",
   "mimetype": "text/x-python",
   "name": "python",
   "nbconvert_exporter": "python",
   "pygments_lexer": "ipython3",
   "version": "3.6.1"
  }
 },
 "nbformat": 4,
 "nbformat_minor": 2
}
