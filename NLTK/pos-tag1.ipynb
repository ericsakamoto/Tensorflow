{
 "cells": [
  {
   "cell_type": "code",
   "execution_count": 73,
   "metadata": {},
   "outputs": [
    {
     "name": "stdout",
     "output_type": "stream",
     "text": [
      "9266\n"
     ]
    }
   ],
   "source": [
    "from nltk.corpus import mac_morpho\n",
    "from nltk.corpus import floresta\n",
    "\n",
    "def simplify_tag(t):\n",
    "    if \"+\" in t:\n",
    "        return t[t.index(\"+\")+1:]\n",
    "    else:\n",
    "        return t\n",
    "\n",
    "#tsents = mac_morpho.tagged_sents()\n",
    "tsents = floresta.tagged_sents()\n",
    "tsents = [[(w.lower(),simplify_tag(t)) for (w,t) in sent] for sent in tsents if sent]\n",
    "print(len(tsents))"
   ]
  },
  {
   "cell_type": "code",
   "execution_count": 74,
   "metadata": {},
   "outputs": [
    {
     "name": "stdout",
     "output_type": "stream",
     "text": [
      "9166\n",
      "1000\n",
      "[('«', '«'), ('a', 'art'), ('proposta', 'n'), ('é', 'v-fin'), ('muito', 'adv'), ('bem', 'adv'), ('vista', 'v-pcp'), (',', ','), ('porque', 'conj-s'), ('será', 'v-fin'), ('mais', 'adv'), ('vantajosa', 'adj'), ('do_que', 'conj-s'), ('se', 'conj-s'), ('houver', 'v-fin'), ('só', 'adv'), ('um', 'art'), ('pólo', 'n'), ('de', 'prp'), ('interesse', 'n'), ('em', 'prp'), ('o', 'art'), ('local', 'n'), (',', ','), ('afirmou', 'v-fin'), ('o', 'art'), ('major', 'n'), ('carlos_barbosa', 'prop'), (',', ','), ('de', 'prp'), ('as', 'art'), ('relações_públicas', 'n'), ('de', 'prp'), ('a', 'art'), ('força_aérea', 'prop'), (',', ','), ('admitindo', 'v-ger'), ('que', 'conj-s'), (',', ','), ('com', 'prp'), ('o', 'art'), ('parque', 'n'), ('temático', 'adj'), (',', ','), ('«', '«'), ('se', 'conj-s'), ('o', 'art'), ('interesse', 'n'), ('for', 'v-fin'), ('diversificado', 'v-pcp'), (',', ','), ('toda_a_gente', 'pron-indp'), ('fica', 'v-fin'), ('a', 'prp'), ('ganhar', 'v-inf'), ('.', '.')]\n"
     ]
    }
   ],
   "source": [
    "train = tsents[100:]\n",
    "test = tsents[:1000]\n",
    "print(len(train))\n",
    "print(len(test))\n",
    "print(test[30])"
   ]
  },
  {
   "cell_type": "code",
   "execution_count": 75,
   "metadata": {},
   "outputs": [],
   "source": [
    "tagger1 = nltk.UnigramTagger(train)"
   ]
  },
  {
   "cell_type": "code",
   "execution_count": 76,
   "metadata": {
    "collapsed": true
   },
   "outputs": [],
   "source": [
    "tagger2 = nltk.BigramTagger(train,backoff=tagger1)"
   ]
  },
  {
   "cell_type": "code",
   "execution_count": 77,
   "metadata": {},
   "outputs": [
    {
     "data": {
      "text/plain": [
       "0.9624123422159888"
      ]
     },
     "execution_count": 77,
     "metadata": {},
     "output_type": "execute_result"
    }
   ],
   "source": [
    "tagger2.evaluate(test)"
   ]
  },
  {
   "cell_type": "code",
   "execution_count": 78,
   "metadata": {},
   "outputs": [
    {
     "data": {
      "text/plain": [
       "[('Esta', None),\n",
       " ('frase', 'n'),\n",
       " ('foi', 'v-fin'),\n",
       " ('dita', 'v-pcp'),\n",
       " ('por', 'prp'),\n",
       " ('Jose', None)]"
      ]
     },
     "execution_count": 78,
     "metadata": {},
     "output_type": "execute_result"
    }
   ],
   "source": [
    "tagger2.tag(nltk.word_tokenize(\"Esta frase foi dita por Jose\"))"
   ]
  },
  {
   "cell_type": "code",
   "execution_count": 79,
   "metadata": {},
   "outputs": [
    {
     "data": {
      "text/plain": [
       "[('Eu', None),\n",
       " ('quero', 'v-fin'),\n",
       " ('uma', 'art'),\n",
       " ('pizza', None),\n",
       " ('de', 'prp'),\n",
       " ('calabresa', None)]"
      ]
     },
     "execution_count": 79,
     "metadata": {},
     "output_type": "execute_result"
    }
   ],
   "source": [
    "tagger2.tag(nltk.word_tokenize(\"Eu quero uma pizza de calabresa\"))"
   ]
  },
  {
   "cell_type": "code",
   "execution_count": 80,
   "metadata": {},
   "outputs": [
    {
     "data": {
      "text/plain": [
       "[('Eu', None),\n",
       " ('quero', 'v-fin'),\n",
       " ('uma', 'art'),\n",
       " ('pizza', None),\n",
       " ('de', 'prp'),\n",
       " ('mussarela', None)]"
      ]
     },
     "execution_count": 80,
     "metadata": {},
     "output_type": "execute_result"
    }
   ],
   "source": [
    "tagger2.tag(nltk.word_tokenize(\"Eu quero uma pizza de mussarela\"))"
   ]
  },
  {
   "cell_type": "code",
   "execution_count": 81,
   "metadata": {},
   "outputs": [
    {
     "data": {
      "text/plain": [
       "[('Eu', None),\n",
       " ('quero', 'v-fin'),\n",
       " ('comer', 'v-inf'),\n",
       " ('50', 'num'),\n",
       " ('pizzas', 'n'),\n",
       " ('em', 'prp'),\n",
       " ('2018', None)]"
      ]
     },
     "execution_count": 81,
     "metadata": {},
     "output_type": "execute_result"
    }
   ],
   "source": [
    "tagger2.tag(nltk.word_tokenize(\"Eu quero comer 50 pizzas em 2018\"))"
   ]
  },
  {
   "cell_type": "code",
   "execution_count": null,
   "metadata": {
    "collapsed": true
   },
   "outputs": [],
   "source": []
  }
 ],
 "metadata": {
  "kernelspec": {
   "display_name": "Python 3",
   "language": "python",
   "name": "python3"
  },
  "language_info": {
   "codemirror_mode": {
    "name": "ipython",
    "version": 3
   },
   "file_extension": ".py",
   "mimetype": "text/x-python",
   "name": "python",
   "nbconvert_exporter": "python",
   "pygments_lexer": "ipython3",
   "version": "3.6.1"
  }
 },
 "nbformat": 4,
 "nbformat_minor": 2
}
